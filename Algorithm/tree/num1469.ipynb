{
 "cells": [
  {
   "cell_type": "code",
   "execution_count": null,
   "metadata": {
    "collapsed": true
   },
   "outputs": [],
   "source": [
    "# Definition for a binary tree node.\n",
    "class TreeNode:\n",
    "    def __init__(self, val=0, left=None, right=None):\n",
    "        self.val = val\n",
    "        self.left = left\n",
    "        self.right = right\n",
    "class Solution:\n",
    "    def getLonelyNodes(self, root: TreeNode) -> list[int]:\n",
    "        self.ans = []\n",
    "        def isLonely(root, flag):\n",
    "            if not root:\n",
    "                return\n",
    "            else:\n",
    "                if flag:\n",
    "                    self.ans.append(root.val)\n",
    "                if not (root.left and root.right):\n",
    "                    isLonely(root.left, True)\n",
    "                    isLonely(root.right, True)\n",
    "                else:\n",
    "                    isLonely(root.left, False)\n",
    "                    isLonely(root.right, False)\n",
    "\n",
    "        isLonely(root, False)\n",
    "        return self.ans\n",
    "\n"
   ]
  }
 ],
 "metadata": {
  "kernelspec": {
   "display_name": "Python 3",
   "language": "python",
   "name": "python3"
  },
  "language_info": {
   "codemirror_mode": {
    "name": "ipython",
    "version": 2
   },
   "file_extension": ".py",
   "mimetype": "text/x-python",
   "name": "python",
   "nbconvert_exporter": "python",
   "pygments_lexer": "ipython2",
   "version": "2.7.6"
  }
 },
 "nbformat": 4,
 "nbformat_minor": 0
}