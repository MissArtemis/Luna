{
 "cells": [
  {
   "cell_type": "code",
   "execution_count": 3,
   "metadata": {
    "collapsed": true
   },
   "outputs": [],
   "source": [
    "def minInsertions(s: str):\n",
    "    n = len(s)\n",
    "    dp = [[0 for i in range(n)] for j in range(n)]\n",
    "    for i in range(n-2, -1, -1):\n",
    "        for j in range(i+1, n):\n",
    "            if s[i] == s[j]:\n",
    "                dp[i][j] = dp[i+1][j-1]\n",
    "            else:\n",
    "                dp[i][j] = min(dp[i+1][j], dp[i][j-1]) + 1\n",
    "    return dp[0][n-1]\n",
    "\n",
    "def minInsertions1(s: str):\n",
    "    n = len(s)\n",
    "    dp = [0 for i in range(n)]\n",
    "    for i in range(n-2, -1 , -1):\n",
    "        pre = 0\n",
    "        for j in range(i + 1, n):\n",
    "            tmp = dp[j]\n",
    "            if s[i] == s[j]:\n",
    "                dp[j] = pre\n",
    "            else:\n",
    "                dp[j] = min(dp[j], dp[j-1]) + 1\n",
    "            pre = tmp\n",
    "    return dp[n-1]\n"
   ]
  },
  {
   "cell_type": "code",
   "execution_count": 4,
   "outputs": [
    {
     "name": "stdout",
     "output_type": "stream",
     "text": [
      "5\n"
     ]
    }
   ],
   "source": [
    "s = \"leetcode\"\n",
    "print(minInsertions1(s))\n"
   ],
   "metadata": {
    "collapsed": false,
    "pycharm": {
     "name": "#%%\n"
    }
   }
  }
 ],
 "metadata": {
  "kernelspec": {
   "display_name": "Python 3",
   "language": "python",
   "name": "python3"
  },
  "language_info": {
   "codemirror_mode": {
    "name": "ipython",
    "version": 2
   },
   "file_extension": ".py",
   "mimetype": "text/x-python",
   "name": "python",
   "nbconvert_exporter": "python",
   "pygments_lexer": "ipython2",
   "version": "2.7.6"
  }
 },
 "nbformat": 4,
 "nbformat_minor": 0
}