{
 "cells": [
  {
   "cell_type": "code",
   "execution_count": 7,
   "metadata": {
    "collapsed": true
   },
   "outputs": [],
   "source": [
    "def superEggDrop(K: int, N: int):\n",
    "    memo = dict()\n",
    "    def dp(K, N):\n",
    "        if K == 1:\n",
    "            return N\n",
    "        if N == 0:\n",
    "            return 0\n",
    "        if (K, N) in memo:\n",
    "            return memo[(K, N)]\n",
    "        res = float('inf')\n",
    "        for i in range(1, N + 1):\n",
    "            res = min(res, max(dp(K, N - i), dp(K-1, i - 1)) + 1)\n",
    "        memo[(K, N)] = res\n",
    "        return res\n",
    "    return dp(K, N)\n",
    "\n",
    "def superEggDrop1(K: int, N: int):\n",
    "    dp = [[0 for i in range(N + 1)] for j in range(K + 1)]\n",
    "    m = 0\n",
    "    while(dp[K][m] < N):\n",
    "        m += 1\n",
    "        for k in range(1, K + 1):\n",
    "            dp[k][m] = dp[k][m - 1] + dp[k - 1][m -1] + 1\n",
    "    return m\n",
    "\n"
   ]
  },
  {
   "cell_type": "code",
   "execution_count": 8,
   "outputs": [
    {
     "name": "stdout",
     "output_type": "stream",
     "text": [
      "4\n"
     ]
    }
   ],
   "source": [
    "k = 3\n",
    "n = 14\n",
    "print(superEggDrop1(k, n))\n"
   ],
   "metadata": {
    "collapsed": false,
    "pycharm": {
     "name": "#%%\n"
    }
   }
  }
 ],
 "metadata": {
  "kernelspec": {
   "display_name": "Python 3",
   "language": "python",
   "name": "python3"
  },
  "language_info": {
   "codemirror_mode": {
    "name": "ipython",
    "version": 2
   },
   "file_extension": ".py",
   "mimetype": "text/x-python",
   "name": "python",
   "nbconvert_exporter": "python",
   "pygments_lexer": "ipython2",
   "version": "2.7.6"
  }
 },
 "nbformat": 4,
 "nbformat_minor": 0
}