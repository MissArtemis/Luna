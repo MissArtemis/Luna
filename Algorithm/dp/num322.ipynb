{
 "cells": [
  {
   "cell_type": "code",
   "execution_count": 1,
   "metadata": {
    "collapsed": true
   },
   "outputs": [],
   "source": [
    "def coinChange(coins, amount):\n",
    "    dp = [float('inf')]* (amount+1)\n",
    "    dp[0] = 0\n",
    "    for coin in coins:\n",
    "        for i in range(coin, amount+1):\n",
    "            dp[i] = min(dp[i], dp[i-coin]+1)\n",
    "    return dp[amount] if dp[amount]!= float('inf') else -1\n"
   ]
  },
  {
   "cell_type": "code",
   "execution_count": 3,
   "outputs": [
    {
     "name": "stdout",
     "output_type": "stream",
     "text": [
      "-1\n"
     ]
    }
   ],
   "source": [
    "coins = [2]\n",
    "amount = 3\n",
    "print(coinChange(coins, amount))\n"
   ],
   "metadata": {
    "collapsed": false,
    "pycharm": {
     "name": "#%%\n"
    }
   }
  }
 ],
 "metadata": {
  "kernelspec": {
   "display_name": "Python 3",
   "language": "python",
   "name": "python3"
  },
  "language_info": {
   "codemirror_mode": {
    "name": "ipython",
    "version": 2
   },
   "file_extension": ".py",
   "mimetype": "text/x-python",
   "name": "python",
   "nbconvert_exporter": "python",
   "pygments_lexer": "ipython2",
   "version": "2.7.6"
  }
 },
 "nbformat": 4,
 "nbformat_minor": 0
}