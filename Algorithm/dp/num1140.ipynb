{
 "cells": [
  {
   "cell_type": "code",
   "execution_count": 9,
   "metadata": {
    "collapsed": true
   },
   "outputs": [],
   "source": [
    "def stoneGameII(piles):\n",
    "    dic = {}\n",
    "    def history(start, m):\n",
    "        if (start,m) in dic:\n",
    "            return dic[(start,m)]\n",
    "        if start+2*m > len(piles):\n",
    "            return sum(piles[start:])\n",
    "        if start>=len(piles):\n",
    "            return 0\n",
    "        maxStone = float('-inf')\n",
    "        for i in range(1, 2*m+1):\n",
    "            maxStone = max(maxStone, sum(piles[start:]) - history(start+i, max(m,i)))\n",
    "        dic[(start,m)] = maxStone\n",
    "        return dic[(start,m)]\n",
    "    return history(0,1)\n",
    "\n"
   ]
  },
  {
   "cell_type": "code",
   "execution_count": 10,
   "outputs": [
    {
     "name": "stdout",
     "output_type": "stream",
     "text": [
      "10\n"
     ]
    }
   ],
   "source": [
    "piles = [2,7,9,4,4]\n",
    "print(stoneGameII(piles))"
   ],
   "metadata": {
    "collapsed": false,
    "pycharm": {
     "name": "#%%\n"
    }
   }
  }
 ],
 "metadata": {
  "kernelspec": {
   "display_name": "Python 3",
   "language": "python",
   "name": "python3"
  },
  "language_info": {
   "codemirror_mode": {
    "name": "ipython",
    "version": 2
   },
   "file_extension": ".py",
   "mimetype": "text/x-python",
   "name": "python",
   "nbconvert_exporter": "python",
   "pygments_lexer": "ipython2",
   "version": "2.7.6"
  }
 },
 "nbformat": 4,
 "nbformat_minor": 0
}