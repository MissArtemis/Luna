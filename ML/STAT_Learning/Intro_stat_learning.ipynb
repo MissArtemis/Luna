{
 "cells": [
  {
   "cell_type": "markdown",
   "metadata": {
    "collapsed": true,
    "pycharm": {
     "name": "#%% md\n"
    }
   },
   "source": [
    "# Introduction To Statistical Learning\n",
    "\n",
    "1.统计学习是关于计算机基于数据构建概率统计模型并运用模型对数据进行分析与预测的一门科学。统计学习包括监督学习、非监督学习、半监督学习和强化学习\n",
    "\n",
    "2.统计学习方法三要素：模型、策略、算法\n",
    "\n",
    "3.监督学习可以概括如下：从给定有限的训练数据出发，假设数据是独立同分布的，而且假设模型数据某个假设空间，应用某一评价标准，从假设空间中选取一个最优模型，使它对已给训练数据及未知测试数据在给定评价标准意义下有最准确的预测。\n",
    "\n",
    "4.统计学习中，进行模型选择或者说提高学习的泛化能力是一个重要问题。如果只考虑减少训练误差，就可能产生过拟合现象。模型选择的方法有正则化与交叉验证。\n",
    "\n",
    "5.分类问题、标注问题和回归问题都是监督学习的重要问题\n",
    "\n"
   ]
  },
  {
   "cell_type": "markdown",
   "source": [
    "### 使用最小二乘法拟合曲线\n",
    "在误差$e_1,...,e_n$独立同分布的假设下，在所有无偏的现行估计类中，最小二乘法是其中方差最小的\n",
    "\n",
    "对于数据$(x_i,y_i)(i=1,2,3...,m)$, 假设拟合函数为$h(x)$， 残差：$r_i = h(x_i) - y_i$\n",
    "\n",
    "此时$L2$范数（残差平方和）最小时，$h(x)$和y的相似度最高，更拟合\n",
    "\n",
    "一般的$H(x)$为n次多项式，$H(x) = w_0+w_1x+w_2x^2+...+w_nx^n$\n",
    "\n",
    "$w(w_0,w_1,w_2,...,w_n)$为参数\n",
    "\n",
    "最小二乘法就是要找到一组$w(w_0,w_1,w_2,...,w_n)$,使得$\\sum_{i=1}^n(h(x_i)-y_i)^2$（残差平方和）最小\n",
    "\n",
    "即求$min\\sum_{i=1}^n(h(x_i)-y_i)^2$"
   ],
   "metadata": {
    "collapsed": false,
    "pycharm": {
     "name": "#%% md\n"
    }
   }
  },
  {
   "cell_type": "code",
   "execution_count": null,
   "outputs": [],
   "source": [
    "import numpy as np\n",
    "import scipy as sp\n",
    "\n"
   ],
   "metadata": {
    "collapsed": false,
    "pycharm": {
     "name": "#%%\n"
    }
   }
  }
 ],
 "metadata": {
  "kernelspec": {
   "display_name": "Python 3",
   "language": "python",
   "name": "python3"
  },
  "language_info": {
   "codemirror_mode": {
    "name": "ipython",
    "version": 2
   },
   "file_extension": ".py",
   "mimetype": "text/x-python",
   "name": "python",
   "nbconvert_exporter": "python",
   "pygments_lexer": "ipython2",
   "version": "2.7.6"
  }
 },
 "nbformat": 4,
 "nbformat_minor": 0
}