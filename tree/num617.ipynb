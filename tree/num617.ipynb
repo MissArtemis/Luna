{
 "cells": [
  {
   "cell_type": "code",
   "execution_count": null,
   "metadata": {
    "collapsed": true
   },
   "outputs": [],
   "source": [
    "# Definition for a binary tree node.\n",
    "import copy\n",
    "\n",
    "\n",
    "class TreeNode:\n",
    "    def __init__(self, val=0, left=None, right=None):\n",
    "        self.val = val\n",
    "        self.left = left\n",
    "        self.right = right\n",
    "class Solution:\n",
    "    def mergeTrees(self, root1: TreeNode, root2: TreeNode) -> TreeNode:\n",
    "        def merge(root1, root2):\n",
    "            if root1 == None and root2 == None:\n",
    "                return\n",
    "            else:\n",
    "                if root2!=None:\n",
    "                    root1.val = root1.val + root2.val\n",
    "                    if root1.left!=None:\n",
    "                        merge(root1.left, root2.left)\n",
    "                    else:\n",
    "                        root1.left = root2.left\n",
    "                    if root1.right!=None:\n",
    "                        merge(root1.right, root2.right)\n",
    "                    else:\n",
    "                        root1.right = root2.right\n",
    "        if root1!=None:\n",
    "            merge(root1, root2)\n",
    "            return root1\n",
    "        else:\n",
    "            if root2!=None:\n",
    "                merge(root2, root1)\n",
    "                return root2\n",
    "            else:\n",
    "                return\n",
    "\n",
    "\n"
   ]
  }
 ],
 "metadata": {
  "kernelspec": {
   "display_name": "Python 3",
   "language": "python",
   "name": "python3"
  },
  "language_info": {
   "codemirror_mode": {
    "name": "ipython",
    "version": 2
   },
   "file_extension": ".py",
   "mimetype": "text/x-python",
   "name": "python",
   "nbconvert_exporter": "python",
   "pygments_lexer": "ipython2",
   "version": "2.7.6"
  }
 },
 "nbformat": 4,
 "nbformat_minor": 0
}