{
 "cells": [
  {
   "cell_type": "code",
   "execution_count": 26,
   "metadata": {
    "collapsed": true
   },
   "outputs": [],
   "source": [
    "def coinChange(coins, amount):\n",
    "    dp = [amount+1 for i in range(amount+1)]\n",
    "    dp[0] = 0\n",
    "    for c in coins:\n",
    "        for i in range(1 , amount+1):\n",
    "            if i -c <0:\n",
    "                continue\n",
    "            dp[i] = min(dp[i-c] + 1, dp[i])\n",
    "\n",
    "    if dp[amount] == amount+1:\n",
    "        return -1\n",
    "    print(dp)\n",
    "    return dp[amount]"
   ]
  },
  {
   "cell_type": "code",
   "execution_count": 27,
   "outputs": [
    {
     "name": "stdout",
     "output_type": "stream",
     "text": [
      "-1\n"
     ]
    }
   ],
   "source": [
    "coins = [2]\n",
    "amount = 3\n",
    "print(coinChange(coins, amount))\n"
   ],
   "metadata": {
    "collapsed": false,
    "pycharm": {
     "name": "#%%\n"
    }
   }
  }
 ],
 "metadata": {
  "kernelspec": {
   "display_name": "Python 3",
   "language": "python",
   "name": "python3"
  },
  "language_info": {
   "codemirror_mode": {
    "name": "ipython",
    "version": 2
   },
   "file_extension": ".py",
   "mimetype": "text/x-python",
   "name": "python",
   "nbconvert_exporter": "python",
   "pygments_lexer": "ipython2",
   "version": "2.7.6"
  }
 },
 "nbformat": 4,
 "nbformat_minor": 0
}