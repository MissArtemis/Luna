{
 "cells": [
  {
   "cell_type": "code",
   "execution_count": 78,
   "metadata": {
    "collapsed": true
   },
   "outputs": [],
   "source": [
    "# def maxSubArray(nums):\n",
    "#     dp = [-float('inf')]*len(nums)\n",
    "#     for i in range(len(nums)):\n",
    "#         for j in range(i+1):\n",
    "#             dp[i] = max(dp[i], sum(nums[j:i+1]))\n",
    "#     return max(dp)\n",
    "\n",
    "def maxSubArray(nums):\n",
    "    dp = [-float('inf')]*len(nums)\n",
    "    for i in range(len(nums)):\n",
    "        dp[i] = max(nums[i], dp[i-1]+nums[i])\n",
    "    return max(dp)\n"
   ]
  },
  {
   "cell_type": "code",
   "execution_count": 79,
   "outputs": [
    {
     "name": "stdout",
     "output_type": "stream",
     "text": [
      "6\n"
     ]
    }
   ],
   "source": [
    "nums = [-2,1,-3,4,-1,2,1,-5,4]\n",
    "# nums = [5,4,-1,7,8]\n",
    "# nums = [1]\n",
    "print(maxSubArray(nums))\n"
   ],
   "metadata": {
    "collapsed": false,
    "pycharm": {
     "name": "#%%\n"
    }
   }
  }
 ],
 "metadata": {
  "kernelspec": {
   "display_name": "Python 3",
   "language": "python",
   "name": "python3"
  },
  "language_info": {
   "codemirror_mode": {
    "name": "ipython",
    "version": 2
   },
   "file_extension": ".py",
   "mimetype": "text/x-python",
   "name": "python",
   "nbconvert_exporter": "python",
   "pygments_lexer": "ipython2",
   "version": "2.7.6"
  }
 },
 "nbformat": 4,
 "nbformat_minor": 0
}