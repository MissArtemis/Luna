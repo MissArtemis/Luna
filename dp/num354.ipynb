{
 "cells": [
  {
   "cell_type": "code",
   "execution_count": 115,
   "metadata": {
    "collapsed": true
   },
   "outputs": [],
   "source": [
    "def maxEnvelopes(envelopes):\n",
    "    envelopes = sorted(envelopes, key= lambda x:[x[0], -x[1]], reverse=False)\n",
    "    print(envelopes)\n",
    "    height = [0]*len(envelopes)\n",
    "    for i in range(len(envelopes)):\n",
    "        height[i] = envelopes[i][1]\n",
    "    dp = [1]*len(envelopes)\n",
    "    print(height)\n",
    "    for i in range(len(envelopes)):\n",
    "        for j in range(i):\n",
    "            if height[i] < height[j]:\n",
    "                dp[i] = max(dp[i], dp[j]+1)\n",
    "    return max(dp)"
   ]
  },
  {
   "cell_type": "code",
   "execution_count": 116,
   "outputs": [
    {
     "name": "stdout",
     "output_type": "stream",
     "text": [
      "[[1, 3], [3, 5], [6, 8], [6, 7], [8, 4], [9, 5]]\n",
      "[3, 5, 8, 7, 4, 5]\n",
      "3\n"
     ]
    }
   ],
   "source": [
    "# envelopes = [[4,5],[4,6],[6,7],[2,3],[1,1]]\n",
    "# envelopes = [[4,5],[6,7],[2,3]]\n",
    "envelopes = [[1,3],[3,5],[6,7],[6,8],[8,4],[9,5]]\n",
    "# envelopes = [[30,50],[12,2],[3,4],[12,15]]\n",
    "print(maxEnvelopes(envelopes))\n"
   ],
   "metadata": {
    "collapsed": false,
    "pycharm": {
     "name": "#%%\n"
    }
   }
  }
 ],
 "metadata": {
  "kernelspec": {
   "display_name": "Python 3",
   "language": "python",
   "name": "python3"
  },
  "language_info": {
   "codemirror_mode": {
    "name": "ipython",
    "version": 2
   },
   "file_extension": ".py",
   "mimetype": "text/x-python",
   "name": "python",
   "nbconvert_exporter": "python",
   "pygments_lexer": "ipython2",
   "version": "2.7.6"
  }
 },
 "nbformat": 4,
 "nbformat_minor": 0
}